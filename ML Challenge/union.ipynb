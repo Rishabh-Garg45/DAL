{
 "cells": [
  {
   "cell_type": "code",
   "execution_count": null,
   "metadata": {},
   "outputs": [],
   "source": [
    "import pandas as pd\n",
    "\n",
    "# Load the two prediction files\n",
    "preds1 = pd.read_csv('/kaggle/input/datafiles/predictions.csv')  \n",
    "preds2 = pd.read_csv('/kaggle/input/datafiles/predictions2.csv')  \n",
    "\n",
    "# Ensure the 'id' columns match across both files\n",
    "assert (preds1['id'] == preds2['id']).all(), \"ID columns do not match between files.\"\n",
    "\n",
    "# Define a function to merge labels\n",
    "def combine_labels(row):\n",
    "    labels1 = set(row['labels1'].split(';')) if pd.notna(row['labels1']) else set()\n",
    "    labels2 = set(row['labels2'].split(';')) if pd.notna(row['labels2']) else set()\n",
    "    combined_labels = labels1.union(labels2)  # Union of both sets\n",
    "    return ';'.join(sorted(combined_labels))  # Sort labels for consistency\n",
    "\n",
    "# Rename columns for clarity\n",
    "preds1.columns = ['id', 'labels1']\n",
    "preds2.columns = ['id', 'labels2']\n",
    "\n",
    "# Merge the two files on 'id'\n",
    "combined = pd.merge(preds1, preds2, on='id')\n",
    "\n",
    "# Apply the combine_labels function to each row\n",
    "combined['labels'] = combined.apply(combine_labels, axis=1)\n",
    "\n",
    "# Save the final predictions, keeping the original format\n",
    "combined[['id', 'labels']].to_csv('final_predictions.csv', index=False)"
   ]
  }
 ],
 "metadata": {
  "language_info": {
   "name": "python"
  }
 },
 "nbformat": 4,
 "nbformat_minor": 2
}
